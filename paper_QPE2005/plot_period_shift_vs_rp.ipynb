{
 "cells": [
  {
   "cell_type": "markdown",
   "metadata": {},
   "source": [
    "## Setup"
   ]
  },
  {
   "cell_type": "code",
   "execution_count": 1,
   "metadata": {},
   "outputs": [
    {
     "name": "stdout",
     "output_type": "stream",
     "text": [
      "['c:\\\\Users\\\\vince\\\\AppData\\\\Local\\\\anaconda3\\\\envs\\\\phys\\\\python312.zip', 'c:\\\\Users\\\\vince\\\\AppData\\\\Local\\\\anaconda3\\\\envs\\\\phys\\\\DLLs', 'c:\\\\Users\\\\vince\\\\AppData\\\\Local\\\\anaconda3\\\\envs\\\\phys\\\\Lib', 'c:\\\\Users\\\\vince\\\\AppData\\\\Local\\\\anaconda3\\\\envs\\\\phys', '', 'c:\\\\Users\\\\vince\\\\AppData\\\\Local\\\\anaconda3\\\\envs\\\\phys\\\\Lib\\\\site-packages', 'c:\\\\Users\\\\vince\\\\AppData\\\\Local\\\\anaconda3\\\\envs\\\\phys\\\\Lib\\\\site-packages\\\\win32', 'c:\\\\Users\\\\vince\\\\AppData\\\\Local\\\\anaconda3\\\\envs\\\\phys\\\\Lib\\\\site-packages\\\\win32\\\\lib', 'c:\\\\Users\\\\vince\\\\AppData\\\\Local\\\\anaconda3\\\\envs\\\\phys\\\\Lib\\\\site-packages\\\\Pythonwin', 'c:\\\\Users\\\\vince\\\\OneDrive - The Chinese University of Hong Kong\\\\python projects\\\\py binary orbit\\\\paper_QPE2005\\\\..']\n"
     ]
    }
   ],
   "source": [
    "import sys\n",
    "from _path import workdir\n",
    "sys.path.append(workdir)\n",
    "print(sys.path)"
   ]
  },
  {
   "cell_type": "code",
   "execution_count": 2,
   "metadata": {},
   "outputs": [],
   "source": [
    "import numpy as np\n",
    "import matplotlib.pyplot as plt\n",
    "import scienceplots\n",
    "from scipy.optimize import root_scalar\n",
    "\n",
    "from src.util.constants import G, msun, c\n",
    "from src.orbit.empirical.WDBH_EMRI import rWD, rtide, wf, olapf\n",
    "from src.orbit.mapping.single_mode.WD_MBH import s_map_WDBH_MT_expo, s_map_GW\n",
    "from src.orbit.mapping.single_mode.WD_MBH import s_dq\n",
    "from src.orbit.osculating.orb_avg_formula import de_2_5pn, da_2_5pn"
   ]
  },
  {
   "cell_type": "markdown",
   "metadata": {},
   "source": [
    "### Initial parameters"
   ]
  },
  {
   "cell_type": "code",
   "execution_count": 3,
   "metadata": {},
   "outputs": [],
   "source": [
    "mWD = 0.5*msun\n",
    "mBH = 1.e5*msun\n",
    "Torb = 9.*3600\n",
    "a0 = (G*(mBH+mWD)*(Torb/2/np.pi)**2)**(1./3)\n",
    "rt = rtide(mWD,mBH)\n",
    "\n",
    "m1, r1 = mWD, rWD(mWD)\n",
    "m2, r2 = mBH, 2*G*mBH/c**2"
   ]
  },
  {
   "cell_type": "code",
   "execution_count": 4,
   "metadata": {},
   "outputs": [],
   "source": [
    "w_list1, olap_list1, ell_list1, m_list1 = [wf(mWD)], [olapf(mWD,0.5)], [2], [2]\n",
    "w_list2, olap_list2, ell_list2, m_list2 = [], [], [], []\n",
    "\n",
    "q10 = np.zeros(len(w_list1)*len(ell_list1)*len(m_list1))\n",
    "q20 = np.zeros(len(w_list2)*len(ell_list2)*len(m_list2))"
   ]
  },
  {
   "cell_type": "code",
   "execution_count": 5,
   "metadata": {},
   "outputs": [],
   "source": [
    "rp_list = np.linspace(3.5,4.5,350)*rt"
   ]
  },
  {
   "cell_type": "code",
   "execution_count": 6,
   "metadata": {},
   "outputs": [],
   "source": [
    "sigma = 1.e-4\n",
    "mu1 = 1.\n",
    "ga = 1."
   ]
  },
  {
   "cell_type": "code",
   "execution_count": 7,
   "metadata": {},
   "outputs": [],
   "source": [
    "def max_n_GW(m1,m2,r1,wa,olap,rp,a0,ef):\n",
    "    dq = s_dq(m1,m2,r1,wa,olap,rp)\n",
    "    e0 = 1 - rp/a0\n",
    "    P0K = 2*np.pi*np.sqrt(a0**3/G/(m1+m2))\n",
    "    nf = int((ef-e0)/de_2_5pn(m1,m2,a0,e0)/P0K)\n",
    "    return nf"
   ]
  },
  {
   "cell_type": "code",
   "execution_count": 8,
   "metadata": {},
   "outputs": [],
   "source": [
    "def find_rp_break(a,m1,m2,w,olap):\n",
    "    def _func(rp):\n",
    "        e = 1 - rp/a\n",
    "        P0K = 2*np.pi*np.sqrt(a**3/G/(m1+m2))\n",
    "        n_cir = -0.1/de_2_5pn(m1,m2,a,e)/P0K\n",
    "        return 0.1/n_cir/np.abs(s_dq(m1,m2,r1,w,olap,rp))**2 - 1.\n",
    "    return root_scalar(_func, x0= 3.*rt).root"
   ]
  },
  {
   "cell_type": "code",
   "execution_count": 9,
   "metadata": {},
   "outputs": [],
   "source": [
    "rp_break = find_rp_break(a0, m1,m2,w_list1[0],olap_list1[0])\n",
    "ntot_break = max_n_GW(m1,m2,r1,w_list1[0],olap_list1[0],rp_break,a0,ef=0.9)"
   ]
  },
  {
   "cell_type": "code",
   "execution_count": 10,
   "metadata": {},
   "outputs": [
    {
     "name": "stdout",
     "output_type": "stream",
     "text": [
      "-21472332\n",
      "10.273972602739725\n"
     ]
    }
   ],
   "source": [
    "print(ntot_break)\n",
    "print(1e4*Torb/31536000)"
   ]
  },
  {
   "cell_type": "code",
   "execution_count": 11,
   "metadata": {},
   "outputs": [],
   "source": [
    "f_resolution = 1./4/31536000\n",
    "P_resolution = f_resolution*Torb**2"
   ]
  },
  {
   "cell_type": "markdown",
   "metadata": {},
   "source": [
    "## Mapping"
   ]
  },
  {
   "cell_type": "code",
   "execution_count": 12,
   "metadata": {},
   "outputs": [],
   "source": [
    "dP_full = np.empty_like(rp_list)\n",
    "dP_gw_DT = np.empty_like(rp_list)\n",
    "dP_gw = np.empty_like(rp_list)\n",
    "for irp, rp in enumerate(rp_list):\n",
    "    ncir = max_n_GW(m1,m2,r1,w_list1[0],olap_list1[0],rp,a0,ef=0.9)\n",
    "    ntot = ncir\n",
    "    # ntot = ntot_break\n",
    "    qn, an, en, m1n, m2n = s_map_WDBH_MT_expo(m1,m2,w_list1[0],olap_list1[0],q10[0],a0,rp,sigma,ga,mu1,ntot, alpha = 1., q_break= 1.e-3, m1_min = 0.1, flag_vary_rp = True)\n",
    "    qn_gw_DT, an_gw_DT, en_gw_DT = s_map_GW(m1,m2,r1,w_list1[0],olap_list1[0],q10[0],a0,rp,ntot, flag_vary_rp = True, flag_tidal_BR = True)\n",
    "    qn_gw, an_gw, en_gw = s_map_GW(m1,m2,r1,w_list1[0],olap_list1[0],q10[0],a0,rp,ntot, flag_vary_rp = True, flag_tidal_BR = False)\n",
    "    \n",
    "    dP_full[irp] = 2*np.pi*np.max(np.abs((np.sqrt(an**3/G/(m1n+m2n))-np.sqrt(an[0]**3/G/(m1n[0]+m2n[0])))))\n",
    "    dP_gw_DT[irp] = 2*np.pi*np.max(np.abs((np.sqrt(an_gw_DT**3/G/(m1+m2))-np.sqrt(an_gw_DT[0]**3/G/(m1+m2)))))\n",
    "    dP_gw[irp] = 2*np.pi*np.max(np.abs((np.sqrt(an_gw**3/G/(m1+m2))-np.sqrt(an_gw[0]**3/G/(m1+m2)))))"
   ]
  },
  {
   "cell_type": "markdown",
   "metadata": {},
   "source": [
    "### Plots"
   ]
  },
  {
   "cell_type": "code",
   "execution_count": 14,
   "metadata": {},
   "outputs": [
    {
     "data": {
      "image/png": "[encoded data removed]",
      "text/plain": [
       "<Figure size 860x640 with 1 Axes>"
      ]
     },
     "metadata": {},
     "output_type": "display_data"
    }
   ],
   "source": [
    "plt.figure(figsize=(8.6,6.4), dpi= 100)\n",
    "plt.style.use('science')\n",
    "# plt.plot(rp_list/rt,np.abs(dP_full-dP_gw)/3600., linestyle = '', marker = '+', color='black', label=r'$\\sigma_1 = 10^{-4}$')\n",
    "# plt.plot(rp_list/rt,np.abs(dP_gw_DT-dP_gw)/3600., linestyle = '', marker = 'x', color='red', label='Dynamical tide only')\n",
    "plt.plot(rp_list/rt,np.abs(dP_gw_DT-dP_gw)/3600., linestyle = '', marker = 'x', color='black')\n",
    "plt.axhline(P_resolution/3600., color = 'blue', linestyle = 'dotted')\n",
    "# plt.axvline(4.1, color = 'red', linestyle = 'dotted')\n",
    "plt.xlabel(r'$r_p (R_t)$',fontsize=20)\n",
    "plt.ylabel(r'max $|\\delta P|$ (hours)',fontsize=20)\n",
    "plt.xticks(fontsize=20)\n",
    "plt.yticks(fontsize=20)\n",
    "plt.xlim([3.8,4.5])\n",
    "plt.yscale('log')\n",
    "# plt.legend(frameon = True, fontsize = 20)\n",
    "\n",
    "plt.text(4.15, 3.e-3, r'Resolution (4 years)', color = 'blue', fontsize = 20)\n",
    "\n",
    "plt.savefig(\"max_period_shift.pdf\", format=\"pdf\")\n",
    "plt.show()\n",
    "plt.close()"
   ]
  }
 ],
 "metadata": {
  "kernelspec": {
   "display_name": "phys",
   "language": "python",
   "name": "python3"
  },
  "language_info": {
   "codemirror_mode": {
    "name": "ipython",
    "version": 3
   },
   "file_extension": ".py",
   "mimetype": "text/x-python",
   "name": "python",
   "nbconvert_exporter": "python",
   "pygments_lexer": "ipython3",
   "version": "3.12.3"
  }
 },
 "nbformat": 4,
 "nbformat_minor": 2
}
