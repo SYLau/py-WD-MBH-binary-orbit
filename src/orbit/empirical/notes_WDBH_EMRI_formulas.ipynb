{
 "cells": [
  {
   "cell_type": "markdown",
   "metadata": {},
   "source": [
    "## WD-BH EMRI system empirical relations"
   ]
  },
  {
   "cell_type": "markdown",
   "metadata": {},
   "source": [
    "### Notes:"
   ]
  },
  {
   "cell_type": "markdown",
   "metadata": {},
   "source": [
    "Wang et al. 2022\n",
    "$$M_\\text{BH} = 10^5~M_\\odot$$\n",
    "$$M_\\text{binary} = 0.5+0.5~M_\\odot$$\n",
    "$$R_\\text{WD} = 9.04 \\times 10^8 \\left(\\frac{M_\\text{WD}}{M_\\text{Ch}}\\right)^{-1/3} \\left(1 - \\frac{M_\\text{WD}}{M_\\text{Ch}}\\right)^{0.447}~\\text{cm}$$\n",
    "$$R_\\text{p} = 2 R_\\text{t} = 2 R_\\text{WD} \\left(\\frac{M_\\text{BH}}{M_\\text{WD}}\\right)^{1/3}$$\n",
    "$$e_0 = 0.97 \\sim 1$$\n",
    "$$\\omega_f = 1.455 \\sqrt{\\frac{G M_\\text{WD}}{R_\\text{WD}^3}}$$\n",
    "$$I_\\alpha = \\sqrt{\\frac{G M_\\text{WD}}{2 R_\\text{WD}^3 \\omega_\\alpha^2}} Q_{n\\ell} $$\n",
    "$$R_\\text{Roche} = R_\\text{p} \\frac{0.49 q^{2/3}}{0.6 q^{2/3}+\\ln{(1+q^{1/3})}} $$\n",
    "\n",
    "Kerr BH limit\n",
    "$$a_\\text{spin} = \\frac{cJ}{GM_\\text{BH}^2}\\le 1$$"
   ]
  }
 ],
 "metadata": {
  "language_info": {
   "name": "python"
  }
 },
 "nbformat": 4,
 "nbformat_minor": 2
}
