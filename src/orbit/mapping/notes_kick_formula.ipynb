{
 "cells": [
  {
   "cell_type": "markdown",
   "metadata": {},
   "source": [
    "## Definitions of the functions in the one-kick amplitude"
   ]
  },
  {
   "cell_type": "markdown",
   "metadata": {},
   "source": [
    "$I_{\\ell m}$ follows Eq. (43) of Press and Teukolsky 1977, defined by\n",
    "$$I_{\\ell, -m} = \\frac{\\Omega_{p}}{2^{3/2}} \\int_{P_0}^{P_1} dt^\\prime \\left(\\frac{r_p}{D^\\prime}\\right)^{\\ell+1} e^{i \\omega_a t^\\prime - i m (f^\\prime + \\gamma^\\prime)}.$$\n",
    "The integral $K_{\\ell m}$ is used to compute the one-kick amplitude\n",
    "$$K_{\\ell m} = 2^{3/2} k_p \\tilde{\\epsilon}_a I_{\\ell, -m},$$\n",
    "$$\\Delta q_a = i K_{\\ell m},$$\n",
    "where\n",
    "$$\\tilde{\\epsilon}_a = \\frac{m_2}{m_1} W_{\\ell m} I_a \\left(\\frac{r_1}{r_p}\\right)^{\\ell+1},$$\n",
    "$$k_p = \\frac{\\omega_a}{\\Omega_{p}},$$\n",
    "$$\\Omega_{p} = \\sqrt{\\frac{G m}{r_p^3}}.$$"
   ]
  },
  {
   "cell_type": "markdown",
   "metadata": {},
   "source": [
    "General definition of $\\Delta q_a$:\n",
    "$$\\Delta q_a = i \\frac{m2}{m1}W_{\\ell m} I_a \\omega_a \\int_{P_0}^{P_1} dt^\\prime \\left(\\frac{r_1}{D^\\prime}\\right)^{\\ell+1} e^{i \\omega_a t^\\prime - i m(f^\\prime + \\gamma^\\prime)}.$$"
   ]
  }
 ],
 "metadata": {
  "language_info": {
   "name": "python"
  }
 },
 "nbformat": 4,
 "nbformat_minor": 2
}
